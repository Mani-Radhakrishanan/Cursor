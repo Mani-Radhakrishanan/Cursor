{
 "cells": [
  {
   "cell_type": "markdown",
   "metadata": {},
   "source": [
    "#Iwould like to create a attention is all you need from scratch in pytorch\n",
    "#It is going to be built from scratch to understand the architecture very well\n",
    "#Build the whole architecture step by step with all the basic explanation\n",
    "#I have a piece of text(shakespeare ) and I want to train the model on it  \n",
    "#I have a file called input.txt which has the text\n",
    "\n",
    "\n",
    "It should be trained in my CPU(which is i7(10th gen) 16gb Lenovo Thinkapd X carbon)                                     dda "
   ]
  },
  {
   "cell_type": "code",
   "execution_count": null,
   "metadata": {},
   "outputs": [],
   "source": [
    "import torch\n",
    "import torch.nn as nn\n",
    "import torch.optim as optim\n",
    "import numpy as np\n",
    "import pandas as pd\n",
    "import matplotlib.pyplot as plt\n",
    "import seaborn as sns\n",
    "import os\n",
    "\n",
    "#Load the data\n",
    "with open('input.txt', 'r') as file:\n",
    "    text = file.read()\n",
    "\n",
    "print(text)                         \n"
   ]
  }
 ],
 "metadata": {
  "kernelspec": {
   "display_name": "base",
   "language": "python",
   "name": "python3"
  },
  "language_info": {
   "codemirror_mode": {
    "name": "ipython",
    "version": 3
   },
   "file_extension": ".py",
   "mimetype": "text/x-python",
   "name": "python",
   "nbconvert_exporter": "python",
   "pygments_lexer": "ipython3",
   "version": "3.12.3"
  }
 },
 "nbformat": 4,
 "nbformat_minor": 2
}
